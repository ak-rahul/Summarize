{
  "nbformat": 4,
  "nbformat_minor": 0,
  "metadata": {
    "colab": {
      "provenance": [],
      "gpuType": "T4"
    },
    "kernelspec": {
      "name": "python3",
      "display_name": "Python 3"
    },
    "language_info": {
      "name": "python"
    },
    "accelerator": "GPU"
  },
  "cells": [
    {
      "cell_type": "code",
      "source": [
        "text = \"\"\"979-8-3503-4262-8/23/$31.00 ©2023 IEEE The Development of English Course Material for\n",
        "STEM Learners Entitled “Technical English for\n",
        "Engineering Students”\n",
        "Suthee Ploisawaschai\n",
        "Department of Languages and Future Skills Development\n",
        "Mahanakorn University of Technology\n",
        "Bangkok, Thailand\n",
        "e-mail: suthee@mut.ac.th\n",
        "Abstract—This paper was aimed to develop and evaluate the\n",
        "quality of the English course material for STEM learners\n",
        "entitled “Technical English for Engineering Students” and to\n",
        "examine the satisfaction of the students towards the course\n",
        "material. The panel of 3 experts was formed in order to evaluate\n",
        "the quality of the course material. The research tools consisted\n",
        "of a) quality evaluation form for the expert panel, and b)\n",
        "questionnaire on the students’ satisfaction towards the English\n",
        "course material with Likert’s 5-point rating scale. The statistical\n",
        "methods were mean score and standard deviation. At the end of\n",
        "the course, 207 first-year undergraduate students who enrolled\n",
        "in the course “Technical English” filled out the questionnaire on\n",
        "their satisfaction towards the course material. The findings\n",
        "showed that the expert panel gave positive review comments\n",
        "about the course material in terms of the communicative\n",
        "approach to English language teaching (ELT) and features of\n",
        "English for specific purposes (ESP). Furthermore, the students\n",
        "expressed the highest level of satisfaction towards the course\n",
        "material.\n",
        "Keywords—course material development, STEM learners,\n",
        "technical English, engineering students, English language\n",
        "teaching (ELT), English for specific purposes (ESP)\n",
        "I. INTRODUCTION\n",
        "Science, Technology, Engineering and Mathematics\n",
        "(STEM) are considered to be crucial subjects for new\n",
        "generations of learners. Everywhere around the world STEM\n",
        "education is promoted as part of the 21st century skills which\n",
        "every student needs to study in order to have higher learning\n",
        "achievement.\n",
        "Many advances in STEM originate in the western world\n",
        "and therefore English language is the lingua franca of\n",
        "communication for STEM education. There are many English\n",
        "textbooks which are used in schools and international schools\n",
        "around the world where English is used as a medium of\n",
        "instruction.\n",
        "In Thailand, however, English is considered to be a foreign\n",
        "language because it is not an official language. The majority\n",
        "of Thai learners do not use English in their classroom on a\n",
        "daily basis. Therefore, using STEM textbooks which are\n",
        "targeted at English-speaking students with students who are\n",
        "English language learners (ELL), or in this case Thai students,\n",
        "is a big challenge for them because English is a barrier for their\n",
        "learning and understanding.\n",
        "One solution to the problem of teaching STEM subjects to\n",
        "Thai learners is to adapt STEM texts to be used in English\n",
        "classrooms. Although there are a lot of STEM textbooks for\n",
        "English learners at primary and secondary levels, there is still\n",
        "a lack of good English course material for STEM learners at a tertiary level, probably because the target group at a university\n",
        "level is a niche market. In this research, the particular group\n",
        "of STEM learners is engineering students who need help with\n",
        "English to progress in their academic study.\n",
        "II. LITERATURE REVIEW\n",
        "Although science education is promoted by the\n",
        "government and there have been many initiatives to make\n",
        "science education for all in the United States, it has been\n",
        "noticed that science education is unsuccessful in reaching\n",
        "English language learners or children of immigrants, probably\n",
        "because English language is one barrier for them. Therefore,\n",
        "science teachers are urged to use multicultural strategies, not\n",
        "just inquiry-based instruction, to help these learners in science\n",
        "classrooms. It is noted that giving explicit instruction in the\n",
        "nature of science and treating science as cross-cultural\n",
        "education for these groups of students are better than inquiry-\n",
        "based instruction alone because students can learn to negotiate\n",
        "ways of knowing [1].\n",
        "In Thailand, there is a growing number of English or\n",
        "bilingual programs in secondary schools and at universities.\n",
        "However, many students are still struggling with English as\n",
        "medium of instruction in STEM subjects because they do not\n",
        "study these subjects entirely in English before. Although\n",
        "students can do well academically in their first language\n",
        "(Thai), they struggle to understand and do scientific tasks in\n",
        "English. This complex situation suggests that they are\n",
        "cognitively and academically capable but linguistically\n",
        "challenged. Therefore, there is a need to adopt a different\n",
        "teaching approach to teach English in order help Thai STEM\n",
        "learners to succeed in their education.\n",
        "English for Specific Purposes (ESP) is one approach to\n",
        "teaching English to university students and professionals who\n",
        "need specialized English for their disciplines and careers. It is\n",
        "different from general English language teaching (ELT)\n",
        "which involves communication in daily life situations, such as\n",
        "shopping and talking about news. At primary and secondary\n",
        "levels, English is often taught with a communicative approach\n",
        "in mind. In other words, school students learn English to\n",
        "communicate with friends or other people in everyday\n",
        "situations like travel or shopping. However, ESP is oriented\n",
        "towards a particular profession or a work situation [2].\n",
        "There are many features of ESP as given below [2-6]:\n",
        " It is designed for adult learners or university students.\n",
        " It aligns curricular content with learner goals and\n",
        "needs. 2023 8th International STEM Education Conference (iSTEM-Ed) | 979-8-3503-4262-8/23/$31.00 ©2023 IEEE | DOI: 10.1109/ISTEM-ED59413.2023.10305731\n",
        "Authorized licensed use limited to: COCHIN UNIVERSITY OF SCIENCE AND TECHNOLOGY. Downloaded on December 22,2024 at 04:10:23 UTC from IEEE Xplore.  Restrictions apply.\n",
        " It provides discipline-specific language skills and\n",
        "vocabulary derived from specialised texts or technical\n",
        "documents.\n",
        " It helps students to learn and use language skills in\n",
        "target situations.\n",
        " It uses or adapts authentic materials to help learners\n",
        "familiarize with disciplinary discourse or professional\n",
        "community.\n",
        " It promotes learner autonomy so that learners can\n",
        "become independent and study on their own.\n",
        "In order to make an ESP course successful, there are four\n",
        "pillars as follows [7]: needs analysis, learning objectives,\n",
        "materials and methods, and evaluation:\n",
        " Needs analysis involves identifying language skills\n",
        "which learners will use in their target or workplace\n",
        "situations which companies or industries demand.\n",
        " Learning objectives are what learners can do with the\n",
        "language skills they learn.\n",
        " Materials should be authentic documents or be adapted\n",
        "from them to meet the level of learners. The methods\n",
        "of teaching and learning should be suitable for tasks\n",
        "such as using situational dialogues for conversation.\n",
        " Evaluation involves validity, reliability, and\n",
        "practicality of the whole course.\n",
        "Although the focus of this research was on material\n",
        "development, other pillars of ESP were implicitly\n",
        "incorporated in the process and will be explained later.\n",
        "III. OBJECTIVES\n",
        "The objectives for this research were as follows:\n",
        "1) To develop and evaluate the quality of the English\n",
        "course material for STEM learners entitled “Technical\n",
        "English for Engineering Students”\n",
        "2) To examine the satisfaction of the students towards the\n",
        "English course material for STEM learners entitled\n",
        "“Technical English for Engineering Students”\n",
        "IV. RESEARCH SCOPE\n",
        "The scope of this research was as follows:\n",
        "A. Expert Panel\n",
        "The expert panel was formed in order to evaluate the\n",
        "quality of the English course material entitled “Technical\n",
        "English for Engineering Students”. Three experts were\n",
        "purposively chosen out of those who were qualified and\n",
        "willing to evaluate the course material. They all had obtained\n",
        "a doctoral degree related to English language teaching (ELT)\n",
        "and had taught English courses at a university for over 3 years.\n",
        "B. Students\n",
        "The English course material entitled “Technical English\n",
        "for Engineering Students” was developed in order to be used\n",
        "by 207 first-year undergraduate students from the Faculty of\n",
        "Engineering in a private university in Thailand. They enrolled\n",
        "in the course “Technical English” in the first semester of the\n",
        "academic year 2021. C. Research Tools\n",
        "The tools in this research consisted of a) quality evaluation\n",
        "form for the expert panel, and b) questionnaire on the students’\n",
        "satisfaction towards the English course material with Likert’s\n",
        "5-point rating scale.\n",
        "D. Data Analysis\n",
        "There were two kinds of data for this research. The\n",
        "qualitative data were collected from the quality evaluation\n",
        "form for the expert panel. The quantitative data were collected\n",
        "from the questionnaire on the students’ satisfaction towards\n",
        "the English course material with Likert’s 5-point rating scale\n",
        "and were analysed using the following statistical methods:\n",
        "mean score and standard deviation.\n",
        "V. RESEARCH FINDINGS\n",
        "The findings from this research could be grouped into the\n",
        "following sections.\n",
        "A. The Development of English Course Material Entitled\n",
        "“Technical English for Engineering Students”\n",
        "The English course material for STEM learners entitled\n",
        "“Technical English for Engineering Students” was developed\n",
        "with the following topics and activities as shown in Table 1.\n",
        "TABLE I.  TOPICS AND ACTIVITIES IN THE ENGLISH COURSE\n",
        "MATERIAL ENTITLED “TECHNICAL ENGLISH FOR ENGINEERING STUDENTS”\n",
        "Topic Activities\n",
        "Engines Talking and writing about\n",
        "definitions and parts of objects\n",
        "such as car and internal combustion\n",
        "engine by using authoritative\n",
        "sources of information\n",
        "Construction Site Visit Talking about people in an\n",
        "organization, Interviewing a\n",
        "company\n",
        "The Digital Age Talking about digital savviness,\n",
        "data privacy and online protection\n",
        "Units of Measurement Talking about measurements,\n",
        "Comparing and contrasting two\n",
        "objects or devices\n",
        "Safety First Talking about rules and\n",
        "instructions during machine\n",
        "operation and hand pain after using\n",
        "handheld devices\n",
        "Magazines and Journals Discussing a new technology such\n",
        "as Internet of Things (IoT),\n",
        "Learning academic language in\n",
        "journals\n",
        "History of Inventions Talking about famous engineers\n",
        "and inventors in the past such as\n",
        "Thomas Alva Edison and Nikola\n",
        "Tesla\n",
        "Logbooks and Reports Talking about problems and\n",
        "writing a log entry, Writing a\n",
        "property inspection report\n",
        "Troubleshooting Talking about how to solve\n",
        "problems, Learning the electric\n",
        "shock and safe isolation procedures\n",
        "Energy Efficiency Talking about green building\n",
        "materials, Explaining the\n",
        "importance of energy efficiency\n",
        "\n",
        "According to Table 1, there were 10 topics in the English\n",
        "course material for STEM learners entitled “Technical\n",
        "English for Engineering Students”. The researcher chose these\n",
        "topics and designed activities in accordance with the four\n",
        "pillars of ESP: needs analysis, learning objectives, materials\n",
        "and methods, and evaluation. Because the engineering\n",
        "Authorized licensed use limited to: COCHIN UNIVERSITY OF SCIENCE AND TECHNOLOGY. Downloaded on December 22,2024 at 04:10:23 UTC from IEEE Xplore.  Restrictions apply.\n",
        "students in this course were from different disciplines\n",
        "including electrical engineering, civil engineering,\n",
        "mechanical engineering, computer engineering, industrial\n",
        "engineering and mechatronics, the topics had to be relevant to\n",
        "these students. Furthermore, most activities were designed to\n",
        "be communicative (e.g., talking, interviewing, and discussing)\n",
        "because these activities are based on a communicative\n",
        "approach to English language teaching (ELT).\n",
        "B. The Quality of the English Course Material Entitled\n",
        "“Technical English for Engineering Students”\n",
        "The expert panel evaluated the quality of the English\n",
        "course material for STEM learners entitled “Technical\n",
        "English for Engineering Students” and gave review comments\n",
        "in the following categories:\n",
        "1) Integration of four language skills: The expert panel\n",
        "noticed that the researcher designed activities by integrating\n",
        "four language skills (in other words, listening, speaking,\n",
        "reading and writing). To illustrate, in the activity “Talking\n",
        "and writing about definitions and parts of objects such as car\n",
        "and internal combustion engine by using authoritative\n",
        "sources of information”, students learned how to ask\n",
        "questions and to give answers regarding definitions and parts\n",
        "of objects. Then, they had to refer to authoritative sources of\n",
        "information, i.e. reference books such as manuals,\n",
        "dictionaries or encyclopedias in order to give accurate details\n",
        "to different parts of engine or different types of engines. After\n",
        "that, students practiced writing about parts of objects based\n",
        "on a model writing. In some activities, students compared and\n",
        "constrasted two objects and then they wrote about the\n",
        "differences between the two objects. In this way, students\n",
        "learned to read, speak, listen and write in one activity.\n",
        "2) Communicative approach to English language\n",
        "teaching (ELT): The expert panel praised several activities\n",
        "which encourage the communicative approach to English\n",
        "language teaching (ELT), such as “Talking about people in\n",
        "an organization” and “Interviewing a company”. Students\n",
        "played different roles in an organization by using real sources\n",
        "from official websites of various companies. Then, they\n",
        "practiced talking about these companies’ history, policies and\n",
        "future plans. In another activity “Comparing and contrasting\n",
        "two objects”, students used information from product\n",
        "manuals and specification sheets to make a decision to buy or\n",
        "not to buy certain products. They played roles of salespeople\n",
        "and customers. These communicative activities encourage\n",
        "students to use English in real life outside classroom.\n",
        "3) Benefits to STEM learners due to the features of\n",
        "English for specific purposes (ESP): The expert panel said\n",
        "that the  English course material for STEM learners entitled\n",
        "“Technical English for Engineering Students” was beneficial\n",
        "to STEM learners because there were features of English for\n",
        "specific purposes (ESP) in the course material, including the\n",
        "relevancy of the subject content and the discipline-specific\n",
        "lexis. The expert panel suggested that these features could\n",
        "motivate STEM learners to pay attention in classrooms and\n",
        "look for their own learning opportunities in their workplace\n",
        "in the future.\n",
        "4) Areas of improvement: The expert panel suggested the\n",
        "following areas of improvement: grammar points, reading\n",
        "techniques, pronunciation and exercises. First, the expert panel said that the course material could be better if\n",
        "vocabulary and sentences from these topics were used as\n",
        "examples to illustrate grammar points. Second, the expert\n",
        "panel suggested adding various reading techniques such as\n",
        "skimming, scanning, main idea, and guessing word meaning\n",
        "from context so that students learn how to read technical texts\n",
        "effectively. Third, the expert panel suggested teaching\n",
        "pronunciation or sound patterns in the conversations. Fourth,\n",
        "the expert panel suggested adding more exercises for self-\n",
        "study.\n",
        "C. The Satisfaction towards the English Course Material\n",
        "Entitled “Technical English for Engineering Students”\n",
        "At the end of the course “Technical English”, the\n",
        "engineering students filled out the questionnaire on their\n",
        "satisfaction towards the English course material for STEM\n",
        "learners entitled “Technical English for Engineering\n",
        "Students”. Their satisfaction was shown in Table 2.\n",
        "TABLE II.  STUDENTS’ SATISFACTION TOWARDS THE ENGLISH\n",
        "COURSE MATERIAL ENTITLED “TECHNICAL ENGLISH FOR ENGINEERING\n",
        "STUDENTS”\n",
        "Item\n",
        "  S.D.\n",
        "The subject content is relevant. 4.55 0.63\n",
        "The subject content is up-to-date. 4.59 0.54\n",
        "The subject content is beneficial and\n",
        "useful. 4.52 0.66\n",
        "The explanation is clear. 4.61 0.54\n",
        "The subject content is complete. 4.50 0.70\n",
        "The subject content encourages problem-\n",
        "solving skills. 4.48 0.66\n",
        "Average Mean Score 4.54 0.62\n",
        "\n",
        "According to Table 2, the students expressed the highest\n",
        "level of satisfaction towards the English course material\n",
        "(\n",
        " = 4.54, S.D. = 0.62). The 3 items with the highest mean\n",
        "score are “The explanation is clear” (\n",
        "  = 4.61, S.D. = 0.54),\n",
        "“The subject content is up-to-date” (\n",
        "  = 4.59, S.D. = 0.54),\n",
        "and “The subject content is relevant” (\n",
        "  = 4.55, S.D. = 0.63).\n",
        "The item with the lowest mean score is “The subject content\n",
        "encourages problem-solving skills” (\n",
        "  = 4.48, S.D. = 0.66)\n",
        "yet the satisfaction was at a high level.\n",
        "VI. DISCUSSIONS\n",
        "The findings from this research into the development of\n",
        "the English course material for STEM learners entitled\n",
        "“Technical English for Engineering Students” could be\n",
        "discussed in two aspects: the quality of the course material and\n",
        "the satisfaction towards the course material.\n",
        "In terms of the quality of the course material, the expert\n",
        "panel gave positive review comments about the course\n",
        "material, especially the communicative approach to English\n",
        "language teaching (ELT) and features of English for specific\n",
        "purposes (ESP). This is because the researcher was aware of\n",
        "the features of ESP [2-6] and the four pillars of an ESP course\n",
        "during the process of the material development [7]. The\n",
        "researcher chose relevant topics from many branches of\n",
        "engineering such as civil engineering and electrical\n",
        "engineering (for example, green building materials) and chose\n",
        "many topics related to STEM education, such as general\n",
        "Authorized licensed use limited to: COCHIN UNIVERSITY OF SCIENCE AND TECHNOLOGY. Downloaded on December 22,2024 at 04:10:23 UTC from IEEE Xplore.  Restrictions apply.\n",
        "science (as in the topic “History of Invention”) and\n",
        "mathematics (as in the topic “Units of Measurement”).\n",
        "Furthermore, the researcher integrated four language skills in\n",
        "activities so that students learned to speak, read, listen and\n",
        "write at the same time through communicative activities. By\n",
        "doing so, the researcher encouraged STEM learners to use\n",
        "technical English for communication, not just for academic\n",
        "study. The engineering students learned not only their\n",
        "discipline-specific vocabulary but also the general practices of\n",
        "engineering which they might not study from their own\n",
        "particular disciplines. To give an example, all the engineering\n",
        "students in this course learned the electric shock and safe\n",
        "isolation procedures which electrical engineering students\n",
        "were already aware of but computer engineering and\n",
        "mechanical engineering students were unaware of because\n",
        "these procedures are not a requirement in their disciplines.\n",
        "Therefore, the course material was beneficial and useful to\n",
        "students, similar to another research study done in Taiwan [8].\n",
        "In terms of the satisfaction towards the course material, the\n",
        "students expressed the highest level of satisfaction because of\n",
        "the following features of the course material: clear\n",
        "explanation, up-to-date subject content and relevant subject\n",
        "content. This is because the chosen topics were relevant to the\n",
        "students’ disciplines and they were up-to-date and these\n",
        "motivated them to learn. However, due to the nature of\n",
        "English language teaching classroom, there was no problem-\n",
        "solving experiment for students to perform. Therefore, this\n",
        "might explain the reason why students rated the questionnaire\n",
        "item “The subject content encourages problem-solving skills”\n",
        "at a high level rather than the highest level. However, the\n",
        "language skills in the developed English course material could\n",
        "be considered as examples of problem-solving discourse\n",
        "instead of a scientific problem-solving skill because learners\n",
        "are practicing and could use these language patterns when they\n",
        "encounter a problem at work in the future [9]. By engaging in\n",
        "the problem-solving discourse, learners are able to try new\n",
        "ways to communicate and give clearer information to their\n",
        "peers. This might be a reason why learners rated the\n",
        "questionnaire item “The explanation is clear” at the highest\n",
        "level.\n",
        " VII. SUGGESTIONS\n",
        "The suggestions for further research are as follows:\n",
        "First, as suggested by the expert panel, there should be a\n",
        "study into the development of other linguistic features in\n",
        "English course material for STEM learners such as grammar\n",
        "points, reading techniques, pronunciation tactics and exercises\n",
        "so that STEM learners could learn how to use English\n",
        "grammar based on examples from authentic STEM sources of\n",
        "information.\n",
        "Second, there should be a study into the development of\n",
        "English course material for STEM learners in other disciplines\n",
        "in addition to engineering, such as physics, chemistry,\n",
        "biology, veterinary medicine or information technology.\n",
        "REFERENCES\n",
        "[1] X. Meyer, and B.A. Crawford, “Teaching science as a cultural way of\n",
        "knowing: merging authentic inquiry, nature of science, and\n",
        "multicultural strategies,” Cult Stud of Sci Educ, vol. 6, pp. 525–547,\n",
        "2011. https://doi.org/10.1007/s11422-011-9318-6\n",
        "[2] K. Hyland, and P. Shaw, Eds., The Routledge handbook of English for\n",
        "academic purposes. Oxford: Routledge, 2016.\n",
        "[3] T. Hutchinson, and A. Waters, English for specific purposes.\n",
        "Cambridge: Cambridge University Press, 1987.\n",
        "[4] D. Belcher, “What ESP is and can be: An introduction,” in English for\n",
        "specific purposes in theory and practice, D. Belcher, Ed., Ann Arbor,\n",
        "MI: University of Michigan Press, 2009, pp. 1-20.\n",
        "[5] D. Belcher, “The future of ESP research: Resources for access and\n",
        "choice,” in Handbook of English for specific purposes, B. Paltridge and\n",
        "S. Starfield, Eds., New York: Wiley-Blackwell, 2013, pp. 535-551.\n",
        "[6] T. Dudley-Evans, and M.J. St John, Developments in English for\n",
        "specific purposes: A multi-disciplinary approach, Cambridge:\n",
        "Cambridge University Press, 1998.\n",
        "[7] L. Anthony, Introducing English for Specific Purposes, Oxford:\n",
        "Routeldge, 2018.\n",
        "[8] W. Tsou, and F. Chen, “ESP program evaluation framework:\n",
        "Description and application to a Taiwanese university ESP program,”\n",
        "English for Specific Purposes, vol. 33, pp. 39-53, January 2014.\n",
        "https://doi.org/10.1016/j.esp.2013.07.008\n",
        "[9] M. Handford, and P. Matous, P. “Problem-solving discourse on an\n",
        "international construction site: Patterns and practices,” English for\n",
        "Specific Purposes, vol. 38, pp. 85-98. 2015.\n",
        "\n",
        "\n",
        "Authorized licensed use limited to: COCHIN UNIVERSITY OF SCIENCE AND TECHNOLOGY. Downloaded on December 22,2024 at 04:10:23 UTC from IEEE Xplore.  Restrictions apply.\n",
        "\"\"\"\n",
        "text.strip()\n",
        "text"
      ],
      "metadata": {
        "colab": {
          "base_uri": "https://localhost:8080/",
          "height": 192
        },
        "id": "YM6Vj81Kxfo0",
        "outputId": "47e08282-bfc4-46ba-963e-68b0c40f7762"
      },
      "execution_count": 21,
      "outputs": [
        {
          "output_type": "execute_result",
          "data": {
            "text/plain": [
              "'979-8-3503-4262-8/23/$31.00 ©2023 IEEE The Development of English Course Material for\\nSTEM Learners Entitled “Technical English for\\nEngineering Students”\\nSuthee Ploisawaschai\\nDepartment of Languages and Future Skills Development\\nMahanakorn University of Technology\\nBangkok, Thailand\\ne-mail: suthee@mut.ac.th\\nAbstract—This paper was aimed to develop and evaluate the\\nquality of the English course material for STEM learners\\nentitled “Technical English for Engineering Students” and to\\nexamine the satisfaction of the students towards the course\\nmaterial. The panel of 3 experts was formed in order to evaluate\\nthe quality of the course material. The research tools consisted\\nof a) quality evaluation form for the expert panel, and b)\\nquestionnaire on the students’ satisfaction towards the English\\ncourse material with Likert’s 5-point rating scale. The statistical\\nmethods were mean score and standard deviation. At the end of\\nthe course, 207 first-year undergraduate students who enrolled\\nin the course “Technical English” filled out the questionnaire on\\ntheir satisfaction towards the course material. The findings\\nshowed that the expert panel gave positive review comments\\nabout the course material in terms of the communicative\\napproach to English language teaching (ELT) and features of\\nEnglish for specific purposes (ESP). Furthermore, the students\\nexpressed the highest level of satisfaction towards the course\\nmaterial.\\nKeywords—course material development, STEM learners,\\ntechnical English, engineering students, English language\\nteaching (ELT), English for specific purposes (ESP)\\nI. INTRODUCTION\\nScience, Technology, Engineering and Mathematics\\n(STEM) are considered to be crucial subjects for new\\ngenerations of learners. Everywhere around the world STEM\\neducation is promoted as part of the 21st century skills which\\nevery student needs to study in order to have higher learning\\nachievement.\\nMany advances in STEM originate in the western world\\nand therefore English language is the lingua franca of\\ncommunication for STEM education. There are many English\\ntextbooks which are used in schools and international schools\\naround the world where English is used as a medium of\\ninstruction.\\nIn Thailand, however, English is considered to be a foreign\\nlanguage because it is not an official language. The majority\\nof Thai learners do not use English in their classroom on a\\ndaily basis. Therefore, using STEM textbooks which are\\ntargeted at English-speaking students with students who are\\nEnglish language learners (ELL), or in this case Thai students,\\nis a big challenge for them because English is a barrier for their\\nlearning and understanding.\\nOne solution to the problem of teaching STEM subjects to\\nThai learners is to adapt STEM texts to be used in English\\nclassrooms. Although there are a lot of STEM textbooks for\\nEnglish learners at primary and secondary levels, there is still\\na lack of good English course material for STEM learners at a tertiary level, probably because the target group at a university\\nlevel is a niche market. In this research, the particular group\\nof STEM learners is engineering students who need help with\\nEnglish to progress in their academic study.\\nII. LITERATURE REVIEW\\nAlthough science education is promoted by the\\ngovernment and there have been many initiatives to make\\nscience education for all in the United States, it has been\\nnoticed that science education is unsuccessful in reaching\\nEnglish language learners or children of immigrants, probably\\nbecause English language is one barrier for them. Therefore,\\nscience teachers are urged to use multicultural strategies, not\\njust inquiry-based instruction, to help these learners in science\\nclassrooms. It is noted that giving explicit instruction in the\\nnature of science and treating science as cross-cultural\\neducation for these groups of students are better than inquiry-\\nbased instruction alone because students can learn to negotiate\\nways of knowing [1].\\nIn Thailand, there is a growing number of English or\\nbilingual programs in secondary schools and at universities.\\nHowever, many students are still struggling with English as\\nmedium of instruction in STEM subjects because they do not\\nstudy these subjects entirely in English before. Although\\nstudents can do well academically in their first language\\n(Thai), they struggle to understand and do scientific tasks in\\nEnglish. This complex situation suggests that they are\\ncognitively and academically capable but linguistically\\nchallenged. Therefore, there is a need to adopt a different\\nteaching approach to teach English in order help Thai STEM\\nlearners to succeed in their education.\\nEnglish for Specific Purposes (ESP) is one approach to\\nteaching English to university students and professionals who\\nneed specialized English for their disciplines and careers. It is\\ndifferent from general English language teaching (ELT)\\nwhich involves communication in daily life situations, such as\\nshopping and talking about news. At primary and secondary\\nlevels, English is often taught with a communicative approach\\nin mind. In other words, school students learn English to\\ncommunicate with friends or other people in everyday\\nsituations like travel or shopping. However, ESP is oriented\\ntowards a particular profession or a work situation [2].\\nThere are many features of ESP as given below [2-6]:\\n\\uf0b7 It is designed for adult learners or university students.\\n\\uf0b7 It aligns curricular content with learner goals and\\nneeds. 2023 8th International STEM Education Conference (iSTEM-Ed) | 979-8-3503-4262-8/23/$31.00 ©2023 IEEE | DOI: 10.1109/ISTEM-ED59413.2023.10305731\\nAuthorized licensed use limited to: COCHIN UNIVERSITY OF SCIENCE AND TECHNOLOGY. Downloaded on December 22,2024 at 04:10:23 UTC from IEEE Xplore.  Restrictions apply.\\n\\uf0b7 It provides discipline-specific language skills and\\nvocabulary derived from specialised texts or technical\\ndocuments.\\n\\uf0b7 It helps students to learn and use language skills in\\ntarget situations.\\n\\uf0b7 It uses or adapts authentic materials to help learners\\nfamiliarize with disciplinary discourse or professional\\ncommunity.\\n\\uf0b7 It promotes learner autonomy so that learners can\\nbecome independent and study on their own.\\nIn order to make an ESP course successful, there are four\\npillars as follows [7]: needs analysis, learning objectives,\\nmaterials and methods, and evaluation:\\n\\uf0b7 Needs analysis involves identifying language skills\\nwhich learners will use in their target or workplace\\nsituations which companies or industries demand.\\n\\uf0b7 Learning objectives are what learners can do with the\\nlanguage skills they learn.\\n\\uf0b7 Materials should be authentic documents or be adapted\\nfrom them to meet the level of learners. The methods\\nof teaching and learning should be suitable for tasks\\nsuch as using situational dialogues for conversation.\\n\\uf0b7 Evaluation involves validity, reliability, and\\npracticality of the whole course.\\nAlthough the focus of this research was on material\\ndevelopment, other pillars of ESP were implicitly\\nincorporated in the process and will be explained later.\\nIII. OBJECTIVES\\nThe objectives for this research were as follows:\\n1) To develop and evaluate the quality of the English\\ncourse material for STEM learners entitled “Technical\\nEnglish for Engineering Students”\\n2) To examine the satisfaction of the students towards the\\nEnglish course material for STEM learners entitled\\n“Technical English for Engineering Students”\\nIV. RESEARCH SCOPE\\nThe scope of this research was as follows:\\nA. Expert Panel\\nThe expert panel was formed in order to evaluate the\\nquality of the English course material entitled “Technical\\nEnglish for Engineering Students”. Three experts were\\npurposively chosen out of those who were qualified and\\nwilling to evaluate the course material. They all had obtained\\na doctoral degree related to English language teaching (ELT)\\nand had taught English courses at a university for over 3 years.\\nB. Students\\nThe English course material entitled “Technical English\\nfor Engineering Students” was developed in order to be used\\nby 207 first-year undergraduate students from the Faculty of\\nEngineering in a private university in Thailand. They enrolled\\nin the course “Technical English” in the first semester of the\\nacademic year 2021. C. Research Tools\\nThe tools in this research consisted of a) quality evaluation\\nform for the expert panel, and b) questionnaire on the students’\\nsatisfaction towards the English course material with Likert’s\\n5-point rating scale.\\nD. Data Analysis\\nThere were two kinds of data for this research. The\\nqualitative data were collected from the quality evaluation\\nform for the expert panel. The quantitative data were collected\\nfrom the questionnaire on the students’ satisfaction towards\\nthe English course material with Likert’s 5-point rating scale\\nand were analysed using the following statistical methods:\\nmean score and standard deviation.\\nV. RESEARCH FINDINGS\\nThe findings from this research could be grouped into the\\nfollowing sections.\\nA. The Development of English Course Material Entitled\\n“Technical English for Engineering Students”\\nThe English course material for STEM learners entitled\\n“Technical English for Engineering Students” was developed\\nwith the following topics and activities as shown in Table 1.\\nTABLE I.  TOPICS AND ACTIVITIES IN THE ENGLISH COURSE\\nMATERIAL ENTITLED “TECHNICAL ENGLISH FOR ENGINEERING STUDENTS”\\nTopic Activities\\nEngines Talking and writing about\\ndefinitions and parts of objects\\nsuch as car and internal combustion\\nengine by using authoritative\\nsources of information\\nConstruction Site Visit Talking about people in an\\norganization, Interviewing a\\ncompany\\nThe Digital Age Talking about digital savviness,\\ndata privacy and online protection\\nUnits of Measurement Talking about measurements,\\nComparing and contrasting two\\nobjects or devices\\nSafety First Talking about rules and\\ninstructions during machine\\noperation and hand pain after using\\nhandheld devices\\nMagazines and Journals Discussing a new technology such\\nas Internet of Things (IoT),\\nLearning academic language in\\njournals\\nHistory of Inventions Talking about famous engineers\\nand inventors in the past such as\\nThomas Alva Edison and Nikola\\nTesla\\nLogbooks and Reports Talking about problems and\\nwriting a log entry, Writing a\\nproperty inspection report\\nTroubleshooting Talking about how to solve\\nproblems, Learning the electric\\nshock and safe isolation procedures\\nEnergy Efficiency Talking about green building\\nmaterials, Explaining the\\nimportance of energy efficiency\\n\\nAccording to Table 1, there were 10 topics in the English\\ncourse material for STEM learners entitled “Technical\\nEnglish for Engineering Students”. The researcher chose these\\ntopics and designed activities in accordance with the four\\npillars of ESP: needs analysis, learning objectives, materials\\nand methods, and evaluation. Because the engineering\\nAuthorized licensed use limited to: COCHIN UNIVERSITY OF SCIENCE AND TECHNOLOGY. Downloaded on December 22,2024 at 04:10:23 UTC from IEEE Xplore.  Restrictions apply.\\nstudents in this course were from different disciplines\\nincluding electrical engineering, civil engineering,\\nmechanical engineering, computer engineering, industrial\\nengineering and mechatronics, the topics had to be relevant to\\nthese students. Furthermore, most activities were designed to\\nbe communicative (e.g., talking, interviewing, and discussing)\\nbecause these activities are based on a communicative\\napproach to English language teaching (ELT).\\nB. The Quality of the English Course Material Entitled\\n“Technical English for Engineering Students”\\nThe expert panel evaluated the quality of the English\\ncourse material for STEM learners entitled “Technical\\nEnglish for Engineering Students” and gave review comments\\nin the following categories:\\n1) Integration of four language skills: The expert panel\\nnoticed that the researcher designed activities by integrating\\nfour language skills (in other words, listening, speaking,\\nreading and writing). To illustrate, in the activity “Talking\\nand writing about definitions and parts of objects such as car\\nand internal combustion engine by using authoritative\\nsources of information”, students learned how to ask\\nquestions and to give answers regarding definitions and parts\\nof objects. Then, they had to refer to authoritative sources of\\ninformation, i.e. reference books such as manuals,\\ndictionaries or encyclopedias in order to give accurate details\\nto different parts of engine or different types of engines. After\\nthat, students practiced writing about parts of objects based\\non a model writing. In some activities, students compared and\\nconstrasted two objects and then they wrote about the\\ndifferences between the two objects. In this way, students\\nlearned to read, speak, listen and write in one activity.\\n2) Communicative approach to English language\\nteaching (ELT): The expert panel praised several activities\\nwhich encourage the communicative approach to English\\nlanguage teaching (ELT), such as “Talking about people in\\nan organization” and “Interviewing a company”. Students\\nplayed different roles in an organization by using real sources\\nfrom official websites of various companies. Then, they\\npracticed talking about these companies’ history, policies and\\nfuture plans. In another activity “Comparing and contrasting\\ntwo objects”, students used information from product\\nmanuals and specification sheets to make a decision to buy or\\nnot to buy certain products. They played roles of salespeople\\nand customers. These communicative activities encourage\\nstudents to use English in real life outside classroom.\\n3) Benefits to STEM learners due to the features of\\nEnglish for specific purposes (ESP): The expert panel said\\nthat the  English course material for STEM learners entitled\\n“Technical English for Engineering Students” was beneficial\\nto STEM learners because there were features of English for\\nspecific purposes (ESP) in the course material, including the\\nrelevancy of the subject content and the discipline-specific\\nlexis. The expert panel suggested that these features could\\nmotivate STEM learners to pay attention in classrooms and\\nlook for their own learning opportunities in their workplace\\nin the future.\\n4) Areas of improvement: The expert panel suggested the\\nfollowing areas of improvement: grammar points, reading\\ntechniques, pronunciation and exercises. First, the expert panel said that the course material could be better if\\nvocabulary and sentences from these topics were used as\\nexamples to illustrate grammar points. Second, the expert\\npanel suggested adding various reading techniques such as\\nskimming, scanning, main idea, and guessing word meaning\\nfrom context so that students learn how to read technical texts\\neffectively. Third, the expert panel suggested teaching\\npronunciation or sound patterns in the conversations. Fourth,\\nthe expert panel suggested adding more exercises for self-\\nstudy.\\nC. The Satisfaction towards the English Course Material\\nEntitled “Technical English for Engineering Students”\\nAt the end of the course “Technical English”, the\\nengineering students filled out the questionnaire on their\\nsatisfaction towards the English course material for STEM\\nlearners entitled “Technical English for Engineering\\nStudents”. Their satisfaction was shown in Table 2.\\nTABLE II.  STUDENTS’ SATISFACTION TOWARDS THE ENGLISH\\nCOURSE MATERIAL ENTITLED “TECHNICAL ENGLISH FOR ENGINEERING\\nSTUDENTS”\\nItem\\n  S.D.\\nThe subject content is relevant. 4.55 0.63\\nThe subject content is up-to-date. 4.59 0.54\\nThe subject content is beneficial and\\nuseful. 4.52 0.66\\nThe explanation is clear. 4.61 0.54\\nThe subject content is complete. 4.50 0.70\\nThe subject content encourages problem-\\nsolving skills. 4.48 0.66\\nAverage Mean Score 4.54 0.62\\n\\nAccording to Table 2, the students expressed the highest\\nlevel of satisfaction towards the English course material\\n(\\n = 4.54, S.D. = 0.62). The 3 items with the highest mean\\nscore are “The explanation is clear” (\\n  = 4.61, S.D. = 0.54),\\n“The subject content is up-to-date” (\\n  = 4.59, S.D. = 0.54),\\nand “The subject content is relevant” (\\n  = 4.55, S.D. = 0.63).\\nThe item with the lowest mean score is “The subject content\\nencourages problem-solving skills” (\\n  = 4.48, S.D. = 0.66)\\nyet the satisfaction was at a high level.\\nVI. DISCUSSIONS\\nThe findings from this research into the development of\\nthe English course material for STEM learners entitled\\n“Technical English for Engineering Students” could be\\ndiscussed in two aspects: the quality of the course material and\\nthe satisfaction towards the course material.\\nIn terms of the quality of the course material, the expert\\npanel gave positive review comments about the course\\nmaterial, especially the communicative approach to English\\nlanguage teaching (ELT) and features of English for specific\\npurposes (ESP). This is because the researcher was aware of\\nthe features of ESP [2-6] and the four pillars of an ESP course\\nduring the process of the material development [7]. The\\nresearcher chose relevant topics from many branches of\\nengineering such as civil engineering and electrical\\nengineering (for example, green building materials) and chose\\nmany topics related to STEM education, such as general\\nAuthorized licensed use limited to: COCHIN UNIVERSITY OF SCIENCE AND TECHNOLOGY. Downloaded on December 22,2024 at 04:10:23 UTC from IEEE Xplore.  Restrictions apply.\\nscience (as in the topic “History of Invention”) and\\nmathematics (as in the topic “Units of Measurement”).\\nFurthermore, the researcher integrated four language skills in\\nactivities so that students learned to speak, read, listen and\\nwrite at the same time through communicative activities. By\\ndoing so, the researcher encouraged STEM learners to use\\ntechnical English for communication, not just for academic\\nstudy. The engineering students learned not only their\\ndiscipline-specific vocabulary but also the general practices of\\nengineering which they might not study from their own\\nparticular disciplines. To give an example, all the engineering\\nstudents in this course learned the electric shock and safe\\nisolation procedures which electrical engineering students\\nwere already aware of but computer engineering and\\nmechanical engineering students were unaware of because\\nthese procedures are not a requirement in their disciplines.\\nTherefore, the course material was beneficial and useful to\\nstudents, similar to another research study done in Taiwan [8].\\nIn terms of the satisfaction towards the course material, the\\nstudents expressed the highest level of satisfaction because of\\nthe following features of the course material: clear\\nexplanation, up-to-date subject content and relevant subject\\ncontent. This is because the chosen topics were relevant to the\\nstudents’ disciplines and they were up-to-date and these\\nmotivated them to learn. However, due to the nature of\\nEnglish language teaching classroom, there was no problem-\\nsolving experiment for students to perform. Therefore, this\\nmight explain the reason why students rated the questionnaire\\nitem “The subject content encourages problem-solving skills”\\nat a high level rather than the highest level. However, the\\nlanguage skills in the developed English course material could\\nbe considered as examples of problem-solving discourse\\ninstead of a scientific problem-solving skill because learners\\nare practicing and could use these language patterns when they\\nencounter a problem at work in the future [9]. By engaging in\\nthe problem-solving discourse, learners are able to try new\\nways to communicate and give clearer information to their\\npeers. This might be a reason why learners rated the\\nquestionnaire item “The explanation is clear” at the highest\\nlevel.\\n VII. SUGGESTIONS\\nThe suggestions for further research are as follows:\\nFirst, as suggested by the expert panel, there should be a\\nstudy into the development of other linguistic features in\\nEnglish course material for STEM learners such as grammar\\npoints, reading techniques, pronunciation tactics and exercises\\nso that STEM learners could learn how to use English\\ngrammar based on examples from authentic STEM sources of\\ninformation.\\nSecond, there should be a study into the development of\\nEnglish course material for STEM learners in other disciplines\\nin addition to engineering, such as physics, chemistry,\\nbiology, veterinary medicine or information technology.\\nREFERENCES\\n[1] X. Meyer, and B.A. Crawford, “Teaching science as a cultural way of\\nknowing: merging authentic inquiry, nature of science, and\\nmulticultural strategies,” Cult Stud of Sci Educ, vol. 6, pp. 525–547,\\n2011. https://doi.org/10.1007/s11422-011-9318-6\\n[2] K. Hyland, and P. Shaw, Eds., The Routledge handbook of English for\\nacademic purposes. Oxford: Routledge, 2016.\\n[3] T. Hutchinson, and A. Waters, English for specific purposes.\\nCambridge: Cambridge University Press, 1987.\\n[4] D. Belcher, “What ESP is and can be: An introduction,” in English for\\nspecific purposes in theory and practice, D. Belcher, Ed., Ann Arbor,\\nMI: University of Michigan Press, 2009, pp. 1-20.\\n[5] D. Belcher, “The future of ESP research: Resources for access and\\nchoice,” in Handbook of English for specific purposes, B. Paltridge and\\nS. Starfield, Eds., New York: Wiley-Blackwell, 2013, pp. 535-551.\\n[6] T. Dudley-Evans, and M.J. St John, Developments in English for\\nspecific purposes: A multi-disciplinary approach, Cambridge:\\nCambridge University Press, 1998.\\n[7] L. Anthony, Introducing English for Specific Purposes, Oxford:\\nRouteldge, 2018.\\n[8] W. Tsou, and F. Chen, “ESP program evaluation framework:\\nDescription and application to a Taiwanese university ESP program,”\\nEnglish for Specific Purposes, vol. 33, pp. 39-53, January 2014.\\nhttps://doi.org/10.1016/j.esp.2013.07.008\\n[9] M. Handford, and P. Matous, P. “Problem-solving discourse on an\\ninternational construction site: Patterns and practices,” English for\\nSpecific Purposes, vol. 38, pp. 85-98. 2015.\\n\\n\\nAuthorized licensed use limited to: COCHIN UNIVERSITY OF SCIENCE AND TECHNOLOGY. Downloaded on December 22,2024 at 04:10:23 UTC from IEEE Xplore.  Restrictions apply.\\n'"
            ],
            "application/vnd.google.colaboratory.intrinsic+json": {
              "type": "string"
            }
          },
          "metadata": {},
          "execution_count": 21
        }
      ]
    },
    {
      "cell_type": "code",
      "execution_count": 22,
      "metadata": {
        "colab": {
          "base_uri": "https://localhost:8080/"
        },
        "id": "NUFkY0-Iv2Wi",
        "outputId": "ed64f7c1-2360-465f-c629-794887da1b40"
      },
      "outputs": [
        {
          "output_type": "stream",
          "name": "stdout",
          "text": [
            "Requirement already satisfied: transformers[sentencepiece] in /usr/local/lib/python3.10/dist-packages (4.47.1)\n",
            "Requirement already satisfied: filelock in /usr/local/lib/python3.10/dist-packages (from transformers[sentencepiece]) (3.16.1)\n",
            "Requirement already satisfied: huggingface-hub<1.0,>=0.24.0 in /usr/local/lib/python3.10/dist-packages (from transformers[sentencepiece]) (0.27.0)\n",
            "Requirement already satisfied: numpy>=1.17 in /usr/local/lib/python3.10/dist-packages (from transformers[sentencepiece]) (1.26.4)\n",
            "Requirement already satisfied: packaging>=20.0 in /usr/local/lib/python3.10/dist-packages (from transformers[sentencepiece]) (24.2)\n",
            "Requirement already satisfied: pyyaml>=5.1 in /usr/local/lib/python3.10/dist-packages (from transformers[sentencepiece]) (6.0.2)\n",
            "Requirement already satisfied: regex!=2019.12.17 in /usr/local/lib/python3.10/dist-packages (from transformers[sentencepiece]) (2024.11.6)\n",
            "Requirement already satisfied: requests in /usr/local/lib/python3.10/dist-packages (from transformers[sentencepiece]) (2.32.3)\n",
            "Requirement already satisfied: tokenizers<0.22,>=0.21 in /usr/local/lib/python3.10/dist-packages (from transformers[sentencepiece]) (0.21.0)\n",
            "Requirement already satisfied: safetensors>=0.4.1 in /usr/local/lib/python3.10/dist-packages (from transformers[sentencepiece]) (0.4.5)\n",
            "Requirement already satisfied: tqdm>=4.27 in /usr/local/lib/python3.10/dist-packages (from transformers[sentencepiece]) (4.67.1)\n",
            "Requirement already satisfied: sentencepiece!=0.1.92,>=0.1.91 in /usr/local/lib/python3.10/dist-packages (from transformers[sentencepiece]) (0.2.0)\n",
            "Requirement already satisfied: protobuf in /usr/local/lib/python3.10/dist-packages (from transformers[sentencepiece]) (4.25.5)\n",
            "Requirement already satisfied: fsspec>=2023.5.0 in /usr/local/lib/python3.10/dist-packages (from huggingface-hub<1.0,>=0.24.0->transformers[sentencepiece]) (2024.10.0)\n",
            "Requirement already satisfied: typing-extensions>=3.7.4.3 in /usr/local/lib/python3.10/dist-packages (from huggingface-hub<1.0,>=0.24.0->transformers[sentencepiece]) (4.12.2)\n",
            "Requirement already satisfied: charset-normalizer<4,>=2 in /usr/local/lib/python3.10/dist-packages (from requests->transformers[sentencepiece]) (3.4.0)\n",
            "Requirement already satisfied: idna<4,>=2.5 in /usr/local/lib/python3.10/dist-packages (from requests->transformers[sentencepiece]) (3.10)\n",
            "Requirement already satisfied: urllib3<3,>=1.21.1 in /usr/local/lib/python3.10/dist-packages (from requests->transformers[sentencepiece]) (2.2.3)\n",
            "Requirement already satisfied: certifi>=2017.4.17 in /usr/local/lib/python3.10/dist-packages (from requests->transformers[sentencepiece]) (2024.12.14)\n"
          ]
        }
      ],
      "source": [
        "# install transformers with sentencepiece\n",
        "!pip install transformers[sentencepiece]"
      ]
    },
    {
      "cell_type": "code",
      "source": [
        "from transformers import AutoTokenizer, AutoModelForSeq2SeqLM\n",
        "\n",
        "checkpoint = \"sshleifer/distilbart-cnn-12-6\"\n",
        "\n",
        "tokenizer = AutoTokenizer.from_pretrained(checkpoint)\n",
        "model = AutoModelForSeq2SeqLM.from_pretrained(checkpoint)"
      ],
      "metadata": {
        "id": "qweQzgFOx0_J"
      },
      "execution_count": 23,
      "outputs": []
    },
    {
      "cell_type": "code",
      "source": [
        "# max tokens including the special tokens\n",
        "tokenizer.model_max_length"
      ],
      "metadata": {
        "colab": {
          "base_uri": "https://localhost:8080/"
        },
        "id": "tJNvZQBKyDR3",
        "outputId": "45dafe99-072e-4fa0-aa7c-9e0bf5975b0e"
      },
      "execution_count": 24,
      "outputs": [
        {
          "output_type": "execute_result",
          "data": {
            "text/plain": [
              "1024"
            ]
          },
          "metadata": {},
          "execution_count": 24
        }
      ]
    },
    {
      "cell_type": "code",
      "source": [
        "# max tokens excluding the special tokens\n",
        "tokenizer.max_len_single_sentence\n"
      ],
      "metadata": {
        "colab": {
          "base_uri": "https://localhost:8080/"
        },
        "id": "-q2ipZINyNg_",
        "outputId": "d50ae8d9-81c2-465e-a4c5-138bb097b25f"
      },
      "execution_count": 25,
      "outputs": [
        {
          "output_type": "execute_result",
          "data": {
            "text/plain": [
              "1022"
            ]
          },
          "metadata": {},
          "execution_count": 25
        }
      ]
    },
    {
      "cell_type": "code",
      "source": [
        "\n",
        "# number of special tokens\n",
        "tokenizer.num_special_tokens_to_add()"
      ],
      "metadata": {
        "colab": {
          "base_uri": "https://localhost:8080/"
        },
        "id": "Oll58hFRyQmd",
        "outputId": "e5b5b973-5028-416f-e138-2d29ddf7cdb7"
      },
      "execution_count": 26,
      "outputs": [
        {
          "output_type": "execute_result",
          "data": {
            "text/plain": [
              "2"
            ]
          },
          "metadata": {},
          "execution_count": 26
        }
      ]
    },
    {
      "cell_type": "code",
      "source": [
        "import nltk\n",
        "nltk.download('punkt')\n",
        "nltk.download('punkt_tab')\n",
        "sentences = nltk.tokenize.sent_tokenize(text)"
      ],
      "metadata": {
        "colab": {
          "base_uri": "https://localhost:8080/"
        },
        "id": "sADROJzUyUc4",
        "outputId": "474270d3-a1a4-462b-bdff-eb0424de1214"
      },
      "execution_count": 27,
      "outputs": [
        {
          "output_type": "stream",
          "name": "stderr",
          "text": [
            "[nltk_data] Downloading package punkt to /root/nltk_data...\n",
            "[nltk_data]   Package punkt is already up-to-date!\n",
            "[nltk_data] Downloading package punkt_tab to /root/nltk_data...\n",
            "[nltk_data]   Package punkt_tab is already up-to-date!\n"
          ]
        }
      ]
    },
    {
      "cell_type": "code",
      "source": [
        "max([len(tokenizer.tokenize(sentence)) for sentence in sentences])\n"
      ],
      "metadata": {
        "colab": {
          "base_uri": "https://localhost:8080/"
        },
        "id": "Orv2OJx7ylwy",
        "outputId": "e10ce567-ef25-4ec2-be6d-c2f894345c60"
      },
      "execution_count": 28,
      "outputs": [
        {
          "output_type": "execute_result",
          "data": {
            "text/plain": [
              "303"
            ]
          },
          "metadata": {},
          "execution_count": 28
        }
      ]
    },
    {
      "cell_type": "code",
      "source": [
        "# initialize\n",
        "length = 0\n",
        "chunk = \"\"\n",
        "chunks = []\n",
        "count = -1\n",
        "for sentence in sentences:\n",
        "  count += 1\n",
        "  combined_length = len(tokenizer.tokenize(sentence)) + length # add the no. of sentence tokens to the length counter\n",
        "\n",
        "  if combined_length  <= tokenizer.max_len_single_sentence: # if it doesn't exceed\n",
        "    chunk += sentence + \" \" # add the sentence to the chunk\n",
        "    length = combined_length # update the length counter\n",
        "\n",
        "    # if it is the last sentence\n",
        "    if count == len(sentences) - 1:\n",
        "      chunks.append(chunk.strip()) # save the chunk\n",
        "\n",
        "  else:\n",
        "    chunks.append(chunk.strip()) # save the chunk\n",
        "\n",
        "    # reset\n",
        "    length = 0\n",
        "    chunk = \"\"\n",
        "\n",
        "    # take care of the overflow sentence\n",
        "    chunk += sentence + \" \"\n",
        "    length = len(tokenizer.tokenize(sentence))\n",
        "len(chunks)"
      ],
      "metadata": {
        "colab": {
          "base_uri": "https://localhost:8080/"
        },
        "id": "Tp_0YERsyp9C",
        "outputId": "21b7882e-689d-47e8-c035-ebafa6df83a5"
      },
      "execution_count": 29,
      "outputs": [
        {
          "output_type": "execute_result",
          "data": {
            "text/plain": [
              "5"
            ]
          },
          "metadata": {},
          "execution_count": 29
        }
      ]
    },
    {
      "cell_type": "code",
      "source": [
        "[len(tokenizer.tokenize(c)) for c in chunks]\n"
      ],
      "metadata": {
        "colab": {
          "base_uri": "https://localhost:8080/"
        },
        "id": "UdX_gONkywgP",
        "outputId": "2f4a33ef-c647-40fd-f0f1-6967046d0ef3"
      },
      "execution_count": 30,
      "outputs": [
        {
          "output_type": "execute_result",
          "data": {
            "text/plain": [
              "[999, 984, 1001, 1013, 937]"
            ]
          },
          "metadata": {},
          "execution_count": 30
        }
      ]
    },
    {
      "cell_type": "code",
      "source": [
        "[len(tokenizer(c).input_ids) for c in chunks]"
      ],
      "metadata": {
        "colab": {
          "base_uri": "https://localhost:8080/"
        },
        "id": "wmTeL4Qxyy1j",
        "outputId": "855dc407-9f4c-4685-854c-bbde91901634"
      },
      "execution_count": 31,
      "outputs": [
        {
          "output_type": "execute_result",
          "data": {
            "text/plain": [
              "[1001, 986, 1003, 1015, 939]"
            ]
          },
          "metadata": {},
          "execution_count": 31
        }
      ]
    },
    {
      "cell_type": "code",
      "source": [
        "sum([len(tokenizer(c).input_ids) for c in chunks])"
      ],
      "metadata": {
        "colab": {
          "base_uri": "https://localhost:8080/"
        },
        "id": "-f9xdUl6y1Hf",
        "outputId": "229b05a1-444b-4c22-d9cc-9050de4abadf"
      },
      "execution_count": 32,
      "outputs": [
        {
          "output_type": "execute_result",
          "data": {
            "text/plain": [
              "4944"
            ]
          },
          "metadata": {},
          "execution_count": 32
        }
      ]
    },
    {
      "cell_type": "code",
      "source": [
        "len(tokenizer(text).input_ids)"
      ],
      "metadata": {
        "colab": {
          "base_uri": "https://localhost:8080/"
        },
        "id": "CSwwCPGLy3se",
        "outputId": "2e499644-01a2-441d-e1b0-5cd25d34da82"
      },
      "execution_count": 33,
      "outputs": [
        {
          "output_type": "stream",
          "name": "stderr",
          "text": [
            "Token indices sequence length is longer than the specified maximum sequence length for this model (4997 > 1024). Running this sequence through the model will result in indexing errors\n"
          ]
        },
        {
          "output_type": "execute_result",
          "data": {
            "text/plain": [
              "4997"
            ]
          },
          "metadata": {},
          "execution_count": 33
        }
      ]
    },
    {
      "cell_type": "code",
      "source": [
        "len(tokenizer.tokenize(text))"
      ],
      "metadata": {
        "colab": {
          "base_uri": "https://localhost:8080/"
        },
        "id": "Wl0rA4byy8Bj",
        "outputId": "151be445-c253-4668-8e8d-7bd9fea3aa67"
      },
      "execution_count": 34,
      "outputs": [
        {
          "output_type": "execute_result",
          "data": {
            "text/plain": [
              "4995"
            ]
          },
          "metadata": {},
          "execution_count": 34
        }
      ]
    },
    {
      "cell_type": "code",
      "source": [
        "inputs = [tokenizer(chunk, return_tensors=\"pt\") for chunk in chunks]"
      ],
      "metadata": {
        "id": "uTeGqLsNzBJb"
      },
      "execution_count": 35,
      "outputs": []
    },
    {
      "cell_type": "code",
      "source": [
        "sentences = []"
      ],
      "metadata": {
        "id": "MPsh92hTeUzd"
      },
      "execution_count": 36,
      "outputs": []
    },
    {
      "cell_type": "code",
      "source": [
        "for input in inputs:\n",
        "  output = model.generate(**input)\n",
        "  print(tokenizer.decode(*output, skip_special_tokens=True))\n",
        "  sentences.append(tokenizer.decode(*output, skip_special_tokens=True))"
      ],
      "metadata": {
        "colab": {
          "base_uri": "https://localhost:8080/"
        },
        "id": "FDKYnaQZzDOo",
        "outputId": "443b75ef-d60f-485d-cf1e-66240d3fe7c5"
      },
      "execution_count": 37,
      "outputs": [
        {
          "output_type": "stream",
          "name": "stdout",
          "text": [
            " The paper was aimed to develop and evaluate the quality of the English course material for STEM learners in Thailand . English is considered to be a foreign language in Thailand because it is not an official language . English language is the lingua franca of communication for STEM education . English-speaking students with students who are English language learners (ELL), or in this case Thai students, are a big challenge for them because English is a barrier for their learning and understanding .\n",
            " English is different from general English language teaching (ELT) which involves communication in daily life situations, such as shopping and talking about news . ESP is oriented toward a particular profession or a work situation . It aligns curricular content with learner goals and needs . It provides discipline-specific language skills and vocabulary derived from specialised texts .\n",
            " There were 10 topics in the English-English course material for STEM learners entitled “Technical-English for Engineering Students” The researcher chose these topics and designed activities in accordance with the four-pillars of ESP: needs analysis, learning objectives, materials and methods, and evaluation . Most activities were designed to be communicative (e.g., talking, interviewing, and discussing) activities .\n",
            " The students expressed the highest level of satisfaction towards the English course material, especially the communicative approach to English language teaching (ELT) and features of English for specific purposes (ESP) The researchers chose relevant topics from many branches of engineering such as civil engineering and electrical engineering (for example, green building materials) and many topics related to STEM education .\n",
            " This is because the chosen topics were relevant to the students’ disciplines and they were up-to-date and these motivated them to learn [8] In terms of the satisfaction towards the course material, the students expressed the highest level of satisfaction because of the following features of the material: clear explanations and relevant subject topics . This might be a reason why learners rated the questionnaire “The subject content encourages problem-solving skills” at a high level rather than the highest .\n"
          ]
        }
      ]
    },
    {
      "cell_type": "code",
      "source": [
        "from transformers import pipeline\n",
        "\n",
        "# Load a zero-shot classifier pipeline\n",
        "classifier = pipeline(\"zero-shot-classification\")\n",
        "\n",
        "# Check semantic validity\n",
        "def check_semantics(sentences, context=\"Summarization context\"):\n",
        "    results = {}\n",
        "    for i, sentence in enumerate(sentences, 1):\n",
        "        result = classifier(sentence, candidate_labels=[\"valid\", \"invalid\"])\n",
        "        results[f\"Sentence {i}\"] = result\n",
        "    return results\n",
        "\n",
        "semantic_results = check_semantics(sentences)\n",
        "print(semantic_results)\n"
      ],
      "metadata": {
        "colab": {
          "base_uri": "https://localhost:8080/"
        },
        "id": "5NhdQ39KeKkF",
        "outputId": "eb628b57-fc27-4a42-cc25-2a0fc10181a4"
      },
      "execution_count": 38,
      "outputs": [
        {
          "output_type": "stream",
          "name": "stderr",
          "text": [
            "No model was supplied, defaulted to facebook/bart-large-mnli and revision d7645e1 (https://huggingface.co/facebook/bart-large-mnli).\n",
            "Using a pipeline without specifying a model name and revision in production is not recommended.\n",
            "Device set to use cuda:0\n"
          ]
        },
        {
          "output_type": "stream",
          "name": "stdout",
          "text": [
            "{'Sentence 1': {'sequence': ' The paper was aimed to develop and evaluate the quality of the English course material for STEM learners in Thailand . English is considered to be a foreign language in Thailand because it is not an official language . English language is the lingua franca of communication for STEM education . English-speaking students with students who are English language learners (ELL), or in this case Thai students, are a big challenge for them because English is a barrier for their learning and understanding .', 'labels': ['valid', 'invalid'], 'scores': [0.9495925307273865, 0.050407472997903824]}, 'Sentence 2': {'sequence': ' English is different from general English language teaching (ELT) which involves communication in daily life situations, such as shopping and talking about news . ESP is oriented toward a particular profession or a work situation . It aligns curricular content with learner goals and needs . It provides discipline-specific language skills and vocabulary derived from specialised texts .', 'labels': ['valid', 'invalid'], 'scores': [0.9616171717643738, 0.03838280960917473]}, 'Sentence 3': {'sequence': ' There were 10 topics in the English-English course material for STEM learners entitled “Technical-English for Engineering Students” The researcher chose these topics and designed activities in accordance with the four-pillars of ESP: needs analysis, learning objectives, materials and methods, and evaluation . Most activities were designed to be communicative (e.g., talking, interviewing, and discussing) activities .', 'labels': ['valid', 'invalid'], 'scores': [0.9624297022819519, 0.03757030516862869]}, 'Sentence 4': {'sequence': ' The students expressed the highest level of satisfaction towards the English course material, especially the communicative approach to English language teaching (ELT) and features of English for specific purposes (ESP) The researchers chose relevant topics from many branches of engineering such as civil engineering and electrical engineering (for example, green building materials) and many topics related to STEM education .', 'labels': ['valid', 'invalid'], 'scores': [0.9548519849777222, 0.045148007571697235]}, 'Sentence 5': {'sequence': ' This is because the chosen topics were relevant to the students’ disciplines and they were up-to-date and these motivated them to learn [8] In terms of the satisfaction towards the course material, the students expressed the highest level of satisfaction because of the following features of the material: clear explanations and relevant subject topics . This might be a reason why learners rated the questionnaire “The subject content encourages problem-solving skills” at a high level rather than the highest .', 'labels': ['valid', 'invalid'], 'scores': [0.9915730953216553, 0.00842693354934454]}}\n"
          ]
        }
      ]
    }
  ]
}